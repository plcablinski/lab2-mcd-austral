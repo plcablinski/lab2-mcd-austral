{
 "cells": [
  {
   "cell_type": "markdown",
   "id": "fcb27b95",
   "metadata": {
    "papermill": {
     "duration": 0.012333,
     "end_time": "2021-12-03T23:56:04.751065",
     "exception": false,
     "start_time": "2021-12-03T23:56:04.738732",
     "status": "completed"
    },
    "tags": []
   },
   "source": [
    "## 1. Importar las Librerías Necesarias"
   ]
  },
  {
   "cell_type": "code",
   "execution_count": 1,
   "id": "f398f8ab",
   "metadata": {
    "_cell_guid": "b1076dfc-b9ad-4769-8c92-a6c4dae69d19",
    "_uuid": "8f2839f25d086af736a60e9eeb907d3b93b6e0e5",
    "execution": {
     "iopub.execute_input": "2021-12-03T23:56:04.783290Z",
     "iopub.status.busy": "2021-12-03T23:56:04.776812Z",
     "iopub.status.idle": "2021-12-03T23:56:04.787508Z",
     "shell.execute_reply": "2021-12-03T23:56:04.786743Z"
    },
    "papermill": {
     "duration": 0.025083,
     "end_time": "2021-12-03T23:56:04.787690",
     "exception": false,
     "start_time": "2021-12-03T23:56:04.762607",
     "status": "completed"
    },
    "tags": []
   },
   "outputs": [],
   "source": []
  },
  {
   "cell_type": "markdown",
   "id": "f6f7562c",
   "metadata": {
    "papermill": {
     "duration": 0.010577,
     "end_time": "2021-12-03T23:56:04.810013",
     "exception": false,
     "start_time": "2021-12-03T23:56:04.799436",
     "status": "completed"
    },
    "tags": []
   },
   "source": [
    "## 2. Leer los Datos\n"
   ]
  },
  {
   "cell_type": "code",
   "execution_count": null,
   "id": "c94a235e",
   "metadata": {
    "papermill": {
     "duration": 0.010623,
     "end_time": "2021-12-03T23:56:04.831715",
     "exception": false,
     "start_time": "2021-12-03T23:56:04.821092",
     "status": "completed"
    },
    "tags": []
   },
   "outputs": [],
   "source": []
  },
  {
   "cell_type": "markdown",
   "id": "def7e919",
   "metadata": {
    "papermill": {
     "duration": 0.010706,
     "end_time": "2021-12-03T23:56:04.853250",
     "exception": false,
     "start_time": "2021-12-03T23:56:04.842544",
     "status": "completed"
    },
    "tags": []
   },
   "source": [
    "## 3. EDA\n"
   ]
  },
  {
   "cell_type": "code",
   "execution_count": null,
   "id": "be25b766",
   "metadata": {
    "papermill": {
     "duration": 0.01076,
     "end_time": "2021-12-03T23:56:04.874856",
     "exception": false,
     "start_time": "2021-12-03T23:56:04.864096",
     "status": "completed"
    },
    "tags": []
   },
   "outputs": [],
   "source": []
  },
  {
   "cell_type": "markdown",
   "id": "74feb59b",
   "metadata": {
    "papermill": {
     "duration": 0.010573,
     "end_time": "2021-12-03T23:56:04.898813",
     "exception": false,
     "start_time": "2021-12-03T23:56:04.888240",
     "status": "completed"
    },
    "tags": []
   },
   "source": [
    "## 4. Pre Procesamiento de datos\n"
   ]
  },
  {
   "cell_type": "code",
   "execution_count": null,
   "id": "31487036",
   "metadata": {
    "papermill": {
     "duration": 0.010864,
     "end_time": "2021-12-03T23:56:04.920467",
     "exception": false,
     "start_time": "2021-12-03T23:56:04.909603",
     "status": "completed"
    },
    "tags": []
   },
   "outputs": [],
   "source": []
  },
  {
   "cell_type": "markdown",
   "id": "97afe8c4",
   "metadata": {
    "papermill": {
     "duration": 0.010497,
     "end_time": "2021-12-03T23:56:04.941880",
     "exception": false,
     "start_time": "2021-12-03T23:56:04.931383",
     "status": "completed"
    },
    "tags": []
   },
   "source": [
    "## 5. Feature Engeneering\n"
   ]
  },
  {
   "cell_type": "code",
   "execution_count": null,
   "id": "ec9104fc",
   "metadata": {
    "papermill": {
     "duration": 0.010604,
     "end_time": "2021-12-03T23:56:04.963262",
     "exception": false,
     "start_time": "2021-12-03T23:56:04.952658",
     "status": "completed"
    },
    "tags": []
   },
   "outputs": [],
   "source": []
  },
  {
   "cell_type": "markdown",
   "id": "2541b3a7",
   "metadata": {
    "execution": {
     "iopub.execute_input": "2021-12-03T23:53:19.438974Z",
     "iopub.status.busy": "2021-12-03T23:53:19.437663Z",
     "iopub.status.idle": "2021-12-03T23:53:19.464612Z",
     "shell.execute_reply": "2021-12-03T23:53:19.463582Z",
     "shell.execute_reply.started": "2021-12-03T23:53:19.438721Z"
    },
    "papermill": {
     "duration": 0.010467,
     "end_time": "2021-12-03T23:56:04.984489",
     "exception": false,
     "start_time": "2021-12-03T23:56:04.974022",
     "status": "completed"
    },
    "tags": []
   },
   "source": [
    "## 6. Separa la base de Test y Train\n"
   ]
  },
  {
   "cell_type": "code",
   "execution_count": null,
   "id": "5833e743",
   "metadata": {
    "papermill": {
     "duration": 0.0106,
     "end_time": "2021-12-03T23:56:05.005910",
     "exception": false,
     "start_time": "2021-12-03T23:56:04.995310",
     "status": "completed"
    },
    "tags": []
   },
   "outputs": [],
   "source": []
  },
  {
   "cell_type": "markdown",
   "id": "7ea9c39d",
   "metadata": {
    "papermill": {
     "duration": 0.0107,
     "end_time": "2021-12-03T23:56:05.027425",
     "exception": false,
     "start_time": "2021-12-03T23:56:05.016725",
     "status": "completed"
    },
    "tags": []
   },
   "source": [
    "### 7. Para la parte de Train, armar un esquema de Cross Validation\n"
   ]
  },
  {
   "cell_type": "code",
   "execution_count": null,
   "id": "94bfcf0d",
   "metadata": {
    "papermill": {
     "duration": 0.010507,
     "end_time": "2021-12-03T23:56:05.048766",
     "exception": false,
     "start_time": "2021-12-03T23:56:05.038259",
     "status": "completed"
    },
    "tags": []
   },
   "outputs": [],
   "source": []
  },
  {
   "cell_type": "markdown",
   "id": "a1249152",
   "metadata": {
    "papermill": {
     "duration": 0.012977,
     "end_time": "2021-12-03T23:56:05.099771",
     "exception": false,
     "start_time": "2021-12-03T23:56:05.086794",
     "status": "completed"
    },
    "tags": []
   },
   "source": [
    "## 8. Desarrollar modelo datos estructurados"
   ]
  },
  {
   "cell_type": "code",
   "execution_count": null,
   "id": "8ac1bcd2",
   "metadata": {},
   "outputs": [],
   "source": []
  },
  {
   "cell_type": "markdown",
   "id": "7ebe9803",
   "metadata": {},
   "source": [
    "## 9. Desarrollar modelo(s) datos no estructurados (Opcional)"
   ]
  },
  {
   "cell_type": "code",
   "execution_count": null,
   "id": "f3735141",
   "metadata": {},
   "outputs": [],
   "source": []
  },
  {
   "cell_type": "markdown",
   "id": "4c1eaa32",
   "metadata": {},
   "source": [
    "## 10. Desarrollar modelo ensamblado (Opcional)"
   ]
  },
  {
   "cell_type": "code",
   "execution_count": null,
   "id": "d16d7b8c",
   "metadata": {},
   "outputs": [],
   "source": [
    "PATH_TO_OPTUNA_ARTIFACTS = \"./modelos\"\n",
    "\n",
    "study_lgb = optuna.create_study(direction='maximize',\n",
    "                            storage=\"sqlite:///db.sqlite3\",  # Specify the storage URL here.\n",
    "                            study_name=\"04 - LGB Multiclass CV\",\n",
    "                            load_if_exists = True)\n",
    "\n",
    "\n",
    "lgb_dataset = load(os.path.join(PATH_TO_OPTUNA_ARTIFACTS,get_artifact_filename(study_lgb,'test')))\n",
    "\n",
    "\n",
    "MODEL_NAME = '07 ResNet'\n",
    "MODEL_VERSION = '1.0.0'\n",
    "\n",
    "study_resnet = optuna.create_study(direction='maximize',\n",
    "                            storage=\"sqlite:///ultima.sqlite3\",  # Specify the storage URL here.\n",
    "                            study_name=f'07 ResNet_1.0.0',\n",
    "                            load_if_exists = True)\n",
    "\n",
    "resnet_dataset = load(os.path.join(PATH_TO_OPTUNA_ARTIFACTS,get_artifact_filename(study_resnet,'test')))\n",
    "\n",
    "merged_datasets = lgb_dataset[['PetID', 'pred', 'AdoptionSpeed']].rename({'pred':'lgb_pred_score'},axis=1).merge(resnet_dataset[['PetID', 'pred']].rename({'pred':'resnet_pred_score'},axis=1),\n",
    "                  on='PetID', how='outer')\n",
    "\n",
    "\n",
    "\n",
    "merged_datasets['resnet_pred_score'] = [np.zeros(5) if type(i) is float else  i for i in merged_datasets['resnet_pred_score'] ]\n",
    "\n",
    "\n",
    "merged_datasets['blend_pred_score'] = [r['lgb_pred_score']+r['resnet_pred_score'] for i,r in merged_datasets.iterrows()]\n",
    "\n",
    "merged_datasets['lgb_pred'] = [r.argmax() for r in merged_datasets['lgb_pred_score']]\n",
    "merged_datasets['resnet_pred'] = [r.argmax() for r in merged_datasets['resnet_pred_score']]\n",
    "merged_datasets['blended_pred'] = [r.argmax() for r in merged_datasets['blend_pred_score']]"
   ]
  },
  {
   "cell_type": "code",
   "execution_count": null,
   "id": "c3b19601",
   "metadata": {},
   "outputs": [],
   "source": [
    "plot_confusion_matrix(merged_datasets['AdoptionSpeed'],\n",
    "                      merged_datasets['lgb_pred'], \n",
    "                    title = 'LGB Model Kappa: ' + str(cohen_kappa_score(merged_datasets['AdoptionSpeed'],\n",
    "                                                                    merged_datasets['lgb_pred'], \n",
    "                                                                    weights='quadratic')))"
   ]
  },
  {
   "cell_type": "code",
   "execution_count": null,
   "id": "228266f4",
   "metadata": {},
   "outputs": [],
   "source": [
    "plot_confusion_matrix(merged_datasets['AdoptionSpeed'],\n",
    "                      merged_datasets['resnet_pred'], \n",
    "                    title = 'Resnet Model Kappa: ' + str(cohen_kappa_score(merged_datasets['AdoptionSpeed'],\n",
    "                                                                    merged_datasets['resnet_pred'], \n",
    "                                                                    weights='quadratic')))\n"
   ]
  },
  {
   "cell_type": "code",
   "execution_count": null,
   "id": "98362d73",
   "metadata": {},
   "outputs": [],
   "source": [
    "plot_confusion_matrix(merged_datasets['AdoptionSpeed'],\n",
    "                      merged_datasets['blended_pred'], \n",
    "                    title = 'Blended Model Kappa: ' + str(cohen_kappa_score(merged_datasets['AdoptionSpeed'],\n",
    "                                                                    merged_datasets['blended_pred'], \n",
    "                                                                    weights='quadratic')))\n"
   ]
  },
  {
   "cell_type": "markdown",
   "id": "4fee8310",
   "metadata": {},
   "source": [
    "## 11. Valoración del modelo/conclusiones"
   ]
  },
  {
   "cell_type": "code",
   "execution_count": null,
   "id": "676a8f06",
   "metadata": {},
   "outputs": [],
   "source": []
  }
 ],
 "metadata": {
  "kernelspec": {
   "display_name": "Python 3",
   "language": "python",
   "name": "python3"
  },
  "language_info": {
   "codemirror_mode": {
    "name": "ipython",
    "version": 3
   },
   "file_extension": ".py",
   "mimetype": "text/x-python",
   "name": "python",
   "nbconvert_exporter": "python",
   "pygments_lexer": "ipython3",
   "version": "3.7.12"
  },
  "papermill": {
   "default_parameters": {},
   "duration": 11.27613,
   "end_time": "2021-12-03T23:56:05.761994",
   "environment_variables": {},
   "exception": null,
   "input_path": "__notebook__.ipynb",
   "output_path": "__notebook__.ipynb",
   "parameters": {},
   "start_time": "2021-12-03T23:55:54.485864",
   "version": "2.3.3"
  }
 },
 "nbformat": 4,
 "nbformat_minor": 5
}
